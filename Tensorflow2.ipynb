{
  "nbformat": 4,
  "nbformat_minor": 0,
  "metadata": {
    "colab": {
      "name": "Tensorflow2.ipynb",
      "provenance": [],
      "authorship_tag": "ABX9TyN3px9qE5KzZiLwYJO+jF2g",
      "include_colab_link": true
    },
    "kernelspec": {
      "name": "python3",
      "display_name": "Python 3"
    }
  },
  "cells": [
    {
      "cell_type": "markdown",
      "metadata": {
        "id": "view-in-github",
        "colab_type": "text"
      },
      "source": [
        "<a href=\"https://colab.research.google.com/github/abhilashmaipady/Tensorflow-starter/blob/learning/Tensorflow2.ipynb\" target=\"_parent\"><img src=\"https://colab.research.google.com/assets/colab-badge.svg\" alt=\"Open In Colab\"/></a>"
      ]
    },
    {
      "cell_type": "code",
      "metadata": {
        "id": "OWeW7DoBaSu5"
      },
      "source": [
        "import os,datetime\n",
        "import numpy as np\n",
        "import pandas as pd\n",
        "import seaborn as sns\n",
        "import matplotlib.pyplot as plt\n",
        "\n",
        "from sklearn.metrics import r2_score\n",
        "from sklearn.preprocessing import StandardScaler\n",
        "\n",
        "import tensorflow as tf\n",
        "\n",
        "from tensorflow import keras\n",
        "from keras import layers"
      ],
      "execution_count": 2,
      "outputs": []
    },
    {
      "cell_type": "code",
      "metadata": {
        "colab": {
          "base_uri": "https://localhost:8080/",
          "height": 309
        },
        "id": "xC2JLRlEdC0A",
        "outputId": "ee37c7dc-c9a4-4a72-ddb5-182c1544bc22"
      },
      "source": [
        "data = pd.read_csv(\"/content/sample_data/Life Expectancy Data.csv\")\n",
        "data.sample(5)\n"
      ],
      "execution_count": 8,
      "outputs": [
        {
          "output_type": "execute_result",
          "data": {
            "text/html": [
              "<div>\n",
              "<style scoped>\n",
              "    .dataframe tbody tr th:only-of-type {\n",
              "        vertical-align: middle;\n",
              "    }\n",
              "\n",
              "    .dataframe tbody tr th {\n",
              "        vertical-align: top;\n",
              "    }\n",
              "\n",
              "    .dataframe thead th {\n",
              "        text-align: right;\n",
              "    }\n",
              "</style>\n",
              "<table border=\"1\" class=\"dataframe\">\n",
              "  <thead>\n",
              "    <tr style=\"text-align: right;\">\n",
              "      <th></th>\n",
              "      <th>Country</th>\n",
              "      <th>Year</th>\n",
              "      <th>Status</th>\n",
              "      <th>Life expectancy</th>\n",
              "      <th>Adult Mortality</th>\n",
              "      <th>infant deaths</th>\n",
              "      <th>Alcohol</th>\n",
              "      <th>percentage expenditure</th>\n",
              "      <th>Hepatitis B</th>\n",
              "      <th>Measles</th>\n",
              "      <th>BMI</th>\n",
              "      <th>under-five deaths</th>\n",
              "      <th>Polio</th>\n",
              "      <th>Total expenditure</th>\n",
              "      <th>Diphtheria</th>\n",
              "      <th>HIV/AIDS</th>\n",
              "      <th>GDP</th>\n",
              "      <th>Population</th>\n",
              "      <th>thinness  1-19 years</th>\n",
              "      <th>thinness 5-9 years</th>\n",
              "      <th>Income composition of resources</th>\n",
              "      <th>Schooling</th>\n",
              "    </tr>\n",
              "  </thead>\n",
              "  <tbody>\n",
              "    <tr>\n",
              "      <th>2525</th>\n",
              "      <td>Switzerland</td>\n",
              "      <td>2011</td>\n",
              "      <td>Developed</td>\n",
              "      <td>82.6</td>\n",
              "      <td>55.0</td>\n",
              "      <td>0</td>\n",
              "      <td>9.99</td>\n",
              "      <td>18822.867320</td>\n",
              "      <td>NaN</td>\n",
              "      <td>621</td>\n",
              "      <td>55.8</td>\n",
              "      <td>0</td>\n",
              "      <td>96.0</td>\n",
              "      <td>11.21</td>\n",
              "      <td>96.0</td>\n",
              "      <td>0.1</td>\n",
              "      <td>87998.444680</td>\n",
              "      <td>7912398.0</td>\n",
              "      <td>0.5</td>\n",
              "      <td>0.3</td>\n",
              "      <td>0.932</td>\n",
              "      <td>15.6</td>\n",
              "    </tr>\n",
              "    <tr>\n",
              "      <th>68</th>\n",
              "      <td>Antigua and Barbuda</td>\n",
              "      <td>2011</td>\n",
              "      <td>Developing</td>\n",
              "      <td>75.7</td>\n",
              "      <td>136.0</td>\n",
              "      <td>0</td>\n",
              "      <td>7.84</td>\n",
              "      <td>1810.875316</td>\n",
              "      <td>99.0</td>\n",
              "      <td>0</td>\n",
              "      <td>45.1</td>\n",
              "      <td>0</td>\n",
              "      <td>99.0</td>\n",
              "      <td>5.65</td>\n",
              "      <td>99.0</td>\n",
              "      <td>0.1</td>\n",
              "      <td>11929.349910</td>\n",
              "      <td>NaN</td>\n",
              "      <td>3.3</td>\n",
              "      <td>3.3</td>\n",
              "      <td>0.782</td>\n",
              "      <td>14.1</td>\n",
              "    </tr>\n",
              "    <tr>\n",
              "      <th>1122</th>\n",
              "      <td>Haiti</td>\n",
              "      <td>2015</td>\n",
              "      <td>Developing</td>\n",
              "      <td>63.5</td>\n",
              "      <td>24.0</td>\n",
              "      <td>14</td>\n",
              "      <td>NaN</td>\n",
              "      <td>0.000000</td>\n",
              "      <td>6.0</td>\n",
              "      <td>0</td>\n",
              "      <td>49.9</td>\n",
              "      <td>18</td>\n",
              "      <td>56.0</td>\n",
              "      <td>NaN</td>\n",
              "      <td>6.0</td>\n",
              "      <td>0.5</td>\n",
              "      <td>814.546395</td>\n",
              "      <td>171161.0</td>\n",
              "      <td>3.9</td>\n",
              "      <td>3.9</td>\n",
              "      <td>0.490</td>\n",
              "      <td>9.1</td>\n",
              "    </tr>\n",
              "    <tr>\n",
              "      <th>2611</th>\n",
              "      <td>Timor-Leste</td>\n",
              "      <td>2005</td>\n",
              "      <td>Developing</td>\n",
              "      <td>63.7</td>\n",
              "      <td>26.0</td>\n",
              "      <td>3</td>\n",
              "      <td>0.36</td>\n",
              "      <td>7.127145</td>\n",
              "      <td>NaN</td>\n",
              "      <td>203</td>\n",
              "      <td>13.5</td>\n",
              "      <td>3</td>\n",
              "      <td>55.0</td>\n",
              "      <td>1.50</td>\n",
              "      <td>55.0</td>\n",
              "      <td>0.1</td>\n",
              "      <td>478.331859</td>\n",
              "      <td>126484.0</td>\n",
              "      <td>12.0</td>\n",
              "      <td>11.9</td>\n",
              "      <td>0.492</td>\n",
              "      <td>10.6</td>\n",
              "    </tr>\n",
              "    <tr>\n",
              "      <th>320</th>\n",
              "      <td>Bosnia and Herzegovina</td>\n",
              "      <td>2015</td>\n",
              "      <td>Developing</td>\n",
              "      <td>77.4</td>\n",
              "      <td>88.0</td>\n",
              "      <td>0</td>\n",
              "      <td>NaN</td>\n",
              "      <td>0.000000</td>\n",
              "      <td>82.0</td>\n",
              "      <td>1677</td>\n",
              "      <td>55.8</td>\n",
              "      <td>0</td>\n",
              "      <td>74.0</td>\n",
              "      <td>NaN</td>\n",
              "      <td>82.0</td>\n",
              "      <td>0.1</td>\n",
              "      <td>4574.978700</td>\n",
              "      <td>3535961.0</td>\n",
              "      <td>2.3</td>\n",
              "      <td>2.3</td>\n",
              "      <td>0.747</td>\n",
              "      <td>14.2</td>\n",
              "    </tr>\n",
              "  </tbody>\n",
              "</table>\n",
              "</div>"
            ],
            "text/plain": [
              "                     Country  Year  ... Income composition of resources  Schooling\n",
              "2525             Switzerland  2011  ...                           0.932       15.6\n",
              "68       Antigua and Barbuda  2011  ...                           0.782       14.1\n",
              "1122                   Haiti  2015  ...                           0.490        9.1\n",
              "2611             Timor-Leste  2005  ...                           0.492       10.6\n",
              "320   Bosnia and Herzegovina  2015  ...                           0.747       14.2\n",
              "\n",
              "[5 rows x 22 columns]"
            ]
          },
          "metadata": {
            "tags": []
          },
          "execution_count": 8
        }
      ]
    },
    {
      "cell_type": "code",
      "metadata": {
        "colab": {
          "base_uri": "https://localhost:8080/"
        },
        "id": "h1tkvLAafMdG",
        "outputId": "a4638846-2a8b-4ea7-a642-6d78f56091fd"
      },
      "source": [
        "data.shape"
      ],
      "execution_count": 10,
      "outputs": [
        {
          "output_type": "execute_result",
          "data": {
            "text/plain": [
              "(2938, 22)"
            ]
          },
          "metadata": {
            "tags": []
          },
          "execution_count": 10
        }
      ]
    },
    {
      "cell_type": "code",
      "metadata": {
        "id": "aJRTljG0fTFa"
      },
      "source": [
        "for country in data['Country'].unique():\n",
        "  for col in data.columns[data.isnull().any()]:\n",
        "    data.loc[data['Country'] == country, col] = data.loc[data['Country'] == country, col].fillna(data[data['Country'] == country][col].mean())"
      ],
      "execution_count": 20,
      "outputs": []
    },
    {
      "cell_type": "code",
      "metadata": {
        "colab": {
          "base_uri": "https://localhost:8080/"
        },
        "id": "zNeylkH7jHcA",
        "outputId": "71bd6fa1-95c3-49ec-da19-e2274a6547b9"
      },
      "source": [
        "data.isna().sum()"
      ],
      "execution_count": 21,
      "outputs": [
        {
          "output_type": "execute_result",
          "data": {
            "text/plain": [
              "Country                              0\n",
              "Year                                 0\n",
              "Status                               0\n",
              "Life expectancy                     10\n",
              "Adult Mortality                     10\n",
              "infant deaths                        0\n",
              "Alcohol                             17\n",
              "percentage expenditure               0\n",
              "Hepatitis B                        144\n",
              "Measles                              0\n",
              " BMI                                34\n",
              "under-five deaths                    0\n",
              "Polio                                0\n",
              "Total expenditure                   32\n",
              "Diphtheria                           0\n",
              " HIV/AIDS                            0\n",
              "GDP                                405\n",
              "Population                         648\n",
              " thinness  1-19 years               34\n",
              " thinness 5-9 years                 34\n",
              "Income composition of resources    167\n",
              "Schooling                          163\n",
              "dtype: int64"
            ]
          },
          "metadata": {
            "tags": []
          },
          "execution_count": 21
        }
      ]
    },
    {
      "cell_type": "code",
      "metadata": {
        "colab": {
          "base_uri": "https://localhost:8080/"
        },
        "id": "zq9FnavIjRIH",
        "outputId": "9b62e050-027f-4ba2-e8a5-56c457710b4a"
      },
      "source": [
        "data = data.dropna()\n",
        "data.shape"
      ],
      "execution_count": 23,
      "outputs": [
        {
          "output_type": "execute_result",
          "data": {
            "text/plain": [
              "(2128, 22)"
            ]
          },
          "metadata": {
            "tags": []
          },
          "execution_count": 23
        }
      ]
    },
    {
      "cell_type": "code",
      "metadata": {
        "id": "LfyM29cvkJ1D"
      },
      "source": [
        "features = data.drop(columns=['Life expectancy ', 'Country'], axis=1)\n",
        "target = data[['Life expectancy ']]"
      ],
      "execution_count": 29,
      "outputs": []
    },
    {
      "cell_type": "code",
      "metadata": {
        "colab": {
          "base_uri": "https://localhost:8080/"
        },
        "id": "gb_x1pb9lL7g",
        "outputId": "066f013e-64a8-4f73-f55e-e78148badd3f"
      },
      "source": [
        "features.columns"
      ],
      "execution_count": 30,
      "outputs": [
        {
          "output_type": "execute_result",
          "data": {
            "text/plain": [
              "Index(['Year', 'Status', 'Adult Mortality', 'infant deaths', 'Alcohol',\n",
              "       'percentage expenditure', 'Hepatitis B', 'Measles ', ' BMI ',\n",
              "       'under-five deaths ', 'Polio', 'Total expenditure', 'Diphtheria ',\n",
              "       ' HIV/AIDS', 'GDP', 'Population', ' thinness  1-19 years',\n",
              "       ' thinness 5-9 years', 'Income composition of resources', 'Schooling'],\n",
              "      dtype='object')"
            ]
          },
          "metadata": {
            "tags": []
          },
          "execution_count": 30
        }
      ]
    }
  ]
}